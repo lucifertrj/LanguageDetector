{
 "cells": [
  {
   "cell_type": "code",
   "execution_count": 120,
   "id": "4f79036b",
   "metadata": {},
   "outputs": [],
   "source": [
    "import pandas as pd\n",
    "import nltk\n",
    "import matplotlib.pyplot as plt\n",
    "import tensorflow as tf\n",
    "import transformers as trans\n",
    "import os\n",
    "import numpy as np\n",
    "from sklearn.preprocessing import LabelEncoder\n",
    "from sklearn.feature_extraction.text import TfidfVectorizer\n",
    "from sklearn.model_selection import train_test_split\n",
    "from sklearn.naive_bayes import MultinomialNB\n",
    "from sklearn.svm import SVC\n",
    "from sklearn.metrics import classification_report"
   ]
  },
  {
   "cell_type": "code",
   "execution_count": 2,
   "id": "6b5871a3",
   "metadata": {},
   "outputs": [],
   "source": [
    "data = pd.read_csv('../data/Language_Detection.csv')"
   ]
  },
  {
   "cell_type": "code",
   "execution_count": 3,
   "id": "890c8e32",
   "metadata": {},
   "outputs": [
    {
     "data": {
      "text/html": [
       "<div>\n",
       "<style scoped>\n",
       "    .dataframe tbody tr th:only-of-type {\n",
       "        vertical-align: middle;\n",
       "    }\n",
       "\n",
       "    .dataframe tbody tr th {\n",
       "        vertical-align: top;\n",
       "    }\n",
       "\n",
       "    .dataframe thead th {\n",
       "        text-align: right;\n",
       "    }\n",
       "</style>\n",
       "<table border=\"1\" class=\"dataframe\">\n",
       "  <thead>\n",
       "    <tr style=\"text-align: right;\">\n",
       "      <th></th>\n",
       "      <th>Text</th>\n",
       "      <th>Language</th>\n",
       "    </tr>\n",
       "  </thead>\n",
       "  <tbody>\n",
       "    <tr>\n",
       "      <th>0</th>\n",
       "      <td>Nature, in the broadest sense, is the natural...</td>\n",
       "      <td>English</td>\n",
       "    </tr>\n",
       "    <tr>\n",
       "      <th>1</th>\n",
       "      <td>\"Nature\" can refer to the phenomena of the phy...</td>\n",
       "      <td>English</td>\n",
       "    </tr>\n",
       "    <tr>\n",
       "      <th>2</th>\n",
       "      <td>The study of nature is a large, if not the onl...</td>\n",
       "      <td>English</td>\n",
       "    </tr>\n",
       "    <tr>\n",
       "      <th>3</th>\n",
       "      <td>Although humans are part of nature, human acti...</td>\n",
       "      <td>English</td>\n",
       "    </tr>\n",
       "    <tr>\n",
       "      <th>4</th>\n",
       "      <td>[1] The word nature is borrowed from the Old F...</td>\n",
       "      <td>English</td>\n",
       "    </tr>\n",
       "  </tbody>\n",
       "</table>\n",
       "</div>"
      ],
      "text/plain": [
       "                                                Text Language\n",
       "0   Nature, in the broadest sense, is the natural...  English\n",
       "1  \"Nature\" can refer to the phenomena of the phy...  English\n",
       "2  The study of nature is a large, if not the onl...  English\n",
       "3  Although humans are part of nature, human acti...  English\n",
       "4  [1] The word nature is borrowed from the Old F...  English"
      ]
     },
     "execution_count": 3,
     "metadata": {},
     "output_type": "execute_result"
    }
   ],
   "source": [
    "data.head()"
   ]
  },
  {
   "cell_type": "code",
   "execution_count": 4,
   "id": "6d1afbfe",
   "metadata": {},
   "outputs": [
    {
     "data": {
      "text/plain": [
       "(10337, 2)"
      ]
     },
     "execution_count": 4,
     "metadata": {},
     "output_type": "execute_result"
    }
   ],
   "source": [
    "data.shape"
   ]
  },
  {
   "cell_type": "code",
   "execution_count": 5,
   "id": "b458b667",
   "metadata": {},
   "outputs": [
    {
     "data": {
      "text/plain": [
       "array(['English', 'Malayalam', 'Hindi', 'Tamil', 'Portugeese', 'French',\n",
       "       'Dutch', 'Spanish', 'Greek', 'Russian', 'Danish', 'Italian',\n",
       "       'Turkish', 'Sweedish', 'Arabic', 'German', 'Kannada'], dtype=object)"
      ]
     },
     "execution_count": 5,
     "metadata": {},
     "output_type": "execute_result"
    }
   ],
   "source": [
    "data.Language.unique()"
   ]
  },
  {
   "cell_type": "code",
   "execution_count": 6,
   "id": "82d3987a",
   "metadata": {},
   "outputs": [
    {
     "name": "stdout",
     "output_type": "stream",
     "text": [
      "English 1385\n",
      "Malayalam 594\n",
      "Hindi 63\n",
      "Tamil 469\n",
      "Portugeese 739\n",
      "French 1014\n",
      "Dutch 546\n",
      "Spanish 819\n",
      "Greek 365\n",
      "Russian 692\n",
      "Danish 428\n",
      "Italian 698\n",
      "Turkish 474\n",
      "Sweedish 676\n",
      "Arabic 536\n",
      "German 470\n",
      "Kannada 369\n"
     ]
    }
   ],
   "source": [
    "for ln in data['Language'].unique():\n",
    "    print(ln,data[data['Language'] == ln].shape[0])"
   ]
  },
  {
   "cell_type": "code",
   "execution_count": 7,
   "id": "a5afd775",
   "metadata": {},
   "outputs": [],
   "source": [
    "le = LabelEncoder()"
   ]
  },
  {
   "cell_type": "code",
   "execution_count": 8,
   "id": "ad0513ed",
   "metadata": {},
   "outputs": [],
   "source": [
    "data['target'] = le.fit_transform(data['Language'])"
   ]
  },
  {
   "cell_type": "code",
   "execution_count": 9,
   "id": "fae9dce8",
   "metadata": {},
   "outputs": [],
   "source": [
    "X = data['Text']\n",
    "y = data['target']"
   ]
  },
  {
   "cell_type": "code",
   "execution_count": 10,
   "id": "ca64ebf2",
   "metadata": {},
   "outputs": [],
   "source": [
    "tfidf = TfidfVectorizer()"
   ]
  },
  {
   "cell_type": "code",
   "execution_count": 11,
   "id": "697f8477",
   "metadata": {},
   "outputs": [],
   "source": [
    "X_new = tfidf.fit_transform(X)"
   ]
  },
  {
   "cell_type": "code",
   "execution_count": 176,
   "id": "2824a45e",
   "metadata": {},
   "outputs": [],
   "source": [
    "X_train,X_test,y_train,y_test = train_test_split(X_new,y,test_size=0.2,random_state=42)"
   ]
  },
  {
   "cell_type": "code",
   "execution_count": 188,
   "id": "2f129b22",
   "metadata": {},
   "outputs": [],
   "source": [
    "nb = MultinomialNB()"
   ]
  },
  {
   "cell_type": "code",
   "execution_count": 189,
   "id": "35797a1d",
   "metadata": {},
   "outputs": [
    {
     "data": {
      "text/html": [
       "<style>#sk-container-id-4 {color: black;background-color: white;}#sk-container-id-4 pre{padding: 0;}#sk-container-id-4 div.sk-toggleable {background-color: white;}#sk-container-id-4 label.sk-toggleable__label {cursor: pointer;display: block;width: 100%;margin-bottom: 0;padding: 0.3em;box-sizing: border-box;text-align: center;}#sk-container-id-4 label.sk-toggleable__label-arrow:before {content: \"▸\";float: left;margin-right: 0.25em;color: #696969;}#sk-container-id-4 label.sk-toggleable__label-arrow:hover:before {color: black;}#sk-container-id-4 div.sk-estimator:hover label.sk-toggleable__label-arrow:before {color: black;}#sk-container-id-4 div.sk-toggleable__content {max-height: 0;max-width: 0;overflow: hidden;text-align: left;background-color: #f0f8ff;}#sk-container-id-4 div.sk-toggleable__content pre {margin: 0.2em;color: black;border-radius: 0.25em;background-color: #f0f8ff;}#sk-container-id-4 input.sk-toggleable__control:checked~div.sk-toggleable__content {max-height: 200px;max-width: 100%;overflow: auto;}#sk-container-id-4 input.sk-toggleable__control:checked~label.sk-toggleable__label-arrow:before {content: \"▾\";}#sk-container-id-4 div.sk-estimator input.sk-toggleable__control:checked~label.sk-toggleable__label {background-color: #d4ebff;}#sk-container-id-4 div.sk-label input.sk-toggleable__control:checked~label.sk-toggleable__label {background-color: #d4ebff;}#sk-container-id-4 input.sk-hidden--visually {border: 0;clip: rect(1px 1px 1px 1px);clip: rect(1px, 1px, 1px, 1px);height: 1px;margin: -1px;overflow: hidden;padding: 0;position: absolute;width: 1px;}#sk-container-id-4 div.sk-estimator {font-family: monospace;background-color: #f0f8ff;border: 1px dotted black;border-radius: 0.25em;box-sizing: border-box;margin-bottom: 0.5em;}#sk-container-id-4 div.sk-estimator:hover {background-color: #d4ebff;}#sk-container-id-4 div.sk-parallel-item::after {content: \"\";width: 100%;border-bottom: 1px solid gray;flex-grow: 1;}#sk-container-id-4 div.sk-label:hover label.sk-toggleable__label {background-color: #d4ebff;}#sk-container-id-4 div.sk-serial::before {content: \"\";position: absolute;border-left: 1px solid gray;box-sizing: border-box;top: 0;bottom: 0;left: 50%;z-index: 0;}#sk-container-id-4 div.sk-serial {display: flex;flex-direction: column;align-items: center;background-color: white;padding-right: 0.2em;padding-left: 0.2em;position: relative;}#sk-container-id-4 div.sk-item {position: relative;z-index: 1;}#sk-container-id-4 div.sk-parallel {display: flex;align-items: stretch;justify-content: center;background-color: white;position: relative;}#sk-container-id-4 div.sk-item::before, #sk-container-id-4 div.sk-parallel-item::before {content: \"\";position: absolute;border-left: 1px solid gray;box-sizing: border-box;top: 0;bottom: 0;left: 50%;z-index: -1;}#sk-container-id-4 div.sk-parallel-item {display: flex;flex-direction: column;z-index: 1;position: relative;background-color: white;}#sk-container-id-4 div.sk-parallel-item:first-child::after {align-self: flex-end;width: 50%;}#sk-container-id-4 div.sk-parallel-item:last-child::after {align-self: flex-start;width: 50%;}#sk-container-id-4 div.sk-parallel-item:only-child::after {width: 0;}#sk-container-id-4 div.sk-dashed-wrapped {border: 1px dashed gray;margin: 0 0.4em 0.5em 0.4em;box-sizing: border-box;padding-bottom: 0.4em;background-color: white;}#sk-container-id-4 div.sk-label label {font-family: monospace;font-weight: bold;display: inline-block;line-height: 1.2em;}#sk-container-id-4 div.sk-label-container {text-align: center;}#sk-container-id-4 div.sk-container {/* jupyter's `normalize.less` sets `[hidden] { display: none; }` but bootstrap.min.css set `[hidden] { display: none !important; }` so we also need the `!important` here to be able to override the default hidden behavior on the sphinx rendered scikit-learn.org. See: https://github.com/scikit-learn/scikit-learn/issues/21755 */display: inline-block !important;position: relative;}#sk-container-id-4 div.sk-text-repr-fallback {display: none;}</style><div id=\"sk-container-id-4\" class=\"sk-top-container\"><div class=\"sk-text-repr-fallback\"><pre>MultinomialNB()</pre><b>In a Jupyter environment, please rerun this cell to show the HTML representation or trust the notebook. <br />On GitHub, the HTML representation is unable to render, please try loading this page with nbviewer.org.</b></div><div class=\"sk-container\" hidden><div class=\"sk-item\"><div class=\"sk-estimator sk-toggleable\"><input class=\"sk-toggleable__control sk-hidden--visually\" id=\"sk-estimator-id-4\" type=\"checkbox\" checked><label for=\"sk-estimator-id-4\" class=\"sk-toggleable__label sk-toggleable__label-arrow\">MultinomialNB</label><div class=\"sk-toggleable__content\"><pre>MultinomialNB()</pre></div></div></div></div></div>"
      ],
      "text/plain": [
       "MultinomialNB()"
      ]
     },
     "execution_count": 189,
     "metadata": {},
     "output_type": "execute_result"
    }
   ],
   "source": [
    "nb.fit(X_train,y_train)"
   ]
  },
  {
   "cell_type": "code",
   "execution_count": 190,
   "id": "8bc83e53",
   "metadata": {},
   "outputs": [],
   "source": [
    "pred = nb.predict(X_test)"
   ]
  },
  {
   "cell_type": "code",
   "execution_count": 191,
   "id": "b4d1c258",
   "metadata": {},
   "outputs": [
    {
     "name": "stdout",
     "output_type": "stream",
     "text": [
      "              precision    recall  f1-score   support\n",
      "\n",
      "           0       0.92      1.00      0.96        97\n",
      "           1       0.86      0.98      0.92        64\n",
      "           2       0.94      1.00      0.97       104\n",
      "           3       1.00      0.77      0.87       376\n",
      "           4       0.99      0.94      0.97       230\n",
      "           5       0.94      1.00      0.97        87\n",
      "           6       0.88      1.00      0.94        60\n",
      "           7       0.40      1.00      0.57         4\n",
      "           8       0.97      1.00      0.98       140\n",
      "           9       0.95      1.00      0.98        63\n",
      "          10       0.98      1.00      0.99       118\n",
      "          11       0.95      1.00      0.98       137\n",
      "          12       0.92      1.00      0.96       125\n",
      "          13       0.97      0.97      0.97       160\n",
      "          14       0.98      0.96      0.97       136\n",
      "          15       0.99      1.00      0.99        86\n",
      "          16       0.77      1.00      0.87        81\n",
      "\n",
      "    accuracy                           0.95      2068\n",
      "   macro avg       0.91      0.98      0.93      2068\n",
      "weighted avg       0.95      0.95      0.95      2068\n",
      "\n"
     ]
    }
   ],
   "source": [
    "print(classification_report(pred,y_test))"
   ]
  },
  {
   "cell_type": "markdown",
   "id": "9b4c26bc",
   "metadata": {},
   "source": [
    "### Prediction"
   ]
  },
  {
   "cell_type": "code",
   "execution_count": 192,
   "id": "362d66f8",
   "metadata": {},
   "outputs": [],
   "source": [
    "tamil_text = [\"اكتب في العربية\"]\n",
    "try_text = tfidf.transform(tamil_text).toarray()"
   ]
  },
  {
   "cell_type": "code",
   "execution_count": 193,
   "id": "7a10bca9",
   "metadata": {},
   "outputs": [],
   "source": [
    "p = nb.predict(try_text)"
   ]
  },
  {
   "cell_type": "code",
   "execution_count": 194,
   "id": "1ee3ae24",
   "metadata": {},
   "outputs": [
    {
     "data": {
      "text/plain": [
       "array(['Arabic'], dtype=object)"
      ]
     },
     "execution_count": 194,
     "metadata": {},
     "output_type": "execute_result"
    }
   ],
   "source": [
    "le.inverse_transform(p)"
   ]
  },
  {
   "cell_type": "code",
   "execution_count": 195,
   "id": "b3a4e992",
   "metadata": {},
   "outputs": [],
   "source": [
    "with open(\"classes.txt\",'w') as file:\n",
    "    for ln in le.classes_:\n",
    "        file.write(f\"{ln}\\n\")"
   ]
  },
  {
   "cell_type": "markdown",
   "id": "1ccfd41f",
   "metadata": {},
   "source": [
    "### RNN - LSTM and GRU"
   ]
  },
  {
   "cell_type": "code",
   "execution_count": 121,
   "id": "9bb134c4",
   "metadata": {},
   "outputs": [],
   "source": [
    "X_train,X_test,y_train,y_test = train_test_split(X,y,test_size=0.2,random_state=42)"
   ]
  },
  {
   "cell_type": "code",
   "execution_count": 122,
   "id": "b98d1e7c",
   "metadata": {},
   "outputs": [],
   "source": [
    "tokenizer = tf.keras.preprocessing.text.Tokenizer(num_words=5000,oov_token=\"<OOV>\")\n",
    "tokenizer.fit_on_texts(X_train)"
   ]
  },
  {
   "cell_type": "code",
   "execution_count": 123,
   "id": "f80962bb",
   "metadata": {},
   "outputs": [],
   "source": [
    "train_seq =  tokenizer.texts_to_sequences(X_train)\n",
    "test_seq = tokenizer.texts_to_sequences(X_test)"
   ]
  },
  {
   "cell_type": "code",
   "execution_count": 124,
   "id": "01680516",
   "metadata": {},
   "outputs": [],
   "source": [
    "train_pad = tf.keras.utils.pad_sequences(train_seq,padding=\"post\",truncating=\"post\",maxlen=40)\n",
    "test_pad = tf.keras.utils.pad_sequences(test_seq,padding=\"post\",truncating=\"post\",maxlen=40)"
   ]
  },
  {
   "cell_type": "code",
   "execution_count": 208,
   "id": "43559f18",
   "metadata": {},
   "outputs": [],
   "source": [
    "model = tf.keras.models.Sequential()\n",
    "model.add(tf.keras.layers.Embedding(5000,32))\n",
    "model.add(tf.keras.layers.Bidirectional(tf.keras.layers.LSTM(64,return_sequences=True)))\n",
    "model.add(tf.keras.layers.Bidirectional(tf.keras.layers.LSTM(64)))\n",
    "model.add(tf.keras.layers.Dense(128,activation=\"relu\"))\n",
    "model.add(tf.keras.layers.Dropout(0.4))\n",
    "model.add(tf.keras.layers.Dense(len(le.classes_),activation=\"softmax\"))"
   ]
  },
  {
   "cell_type": "code",
   "execution_count": 209,
   "id": "271464a0",
   "metadata": {},
   "outputs": [
    {
     "name": "stdout",
     "output_type": "stream",
     "text": [
      "Model: \"sequential_9\"\n",
      "_________________________________________________________________\n",
      " Layer (type)                Output Shape              Param #   \n",
      "=================================================================\n",
      " embedding_9 (Embedding)     (None, None, 32)          160000    \n",
      "                                                                 \n",
      " bidirectional_4 (Bidirectio  (None, None, 128)        49664     \n",
      " nal)                                                            \n",
      "                                                                 \n",
      " bidirectional_5 (Bidirectio  (None, 128)              98816     \n",
      " nal)                                                            \n",
      "                                                                 \n",
      " dense_10 (Dense)            (None, 128)               16512     \n",
      "                                                                 \n",
      " dropout_8 (Dropout)         (None, 128)               0         \n",
      "                                                                 \n",
      " dense_11 (Dense)            (None, 17)                2193      \n",
      "                                                                 \n",
      "=================================================================\n",
      "Total params: 327,185\n",
      "Trainable params: 327,185\n",
      "Non-trainable params: 0\n",
      "_________________________________________________________________\n"
     ]
    }
   ],
   "source": [
    "model.summary()"
   ]
  },
  {
   "cell_type": "code",
   "execution_count": 210,
   "id": "7c9e93c0",
   "metadata": {},
   "outputs": [],
   "source": [
    "model.compile(\"adam\",\"categorical_crossentropy\",[\"acc\"])"
   ]
  },
  {
   "cell_type": "code",
   "execution_count": 211,
   "id": "f64da5d0",
   "metadata": {},
   "outputs": [],
   "source": [
    "y_train_hot = tf.keras.utils.to_categorical(y_train)\n",
    "y_test_hot = tf.keras.utils.to_categorical(y_test)"
   ]
  },
  {
   "cell_type": "code",
   "execution_count": 213,
   "id": "d4a98f2d",
   "metadata": {},
   "outputs": [
    {
     "name": "stdout",
     "output_type": "stream",
     "text": [
      "Epoch 1/10\n",
      "259/259 [==============================] - 21s 65ms/step - loss: 1.9698 - acc: 0.3401 - val_loss: 0.9905 - val_acc: 0.6509\n",
      "Epoch 2/10\n",
      "259/259 [==============================] - 14s 52ms/step - loss: 0.6592 - acc: 0.7870 - val_loss: 0.3727 - val_acc: 0.8815\n",
      "Epoch 3/10\n",
      "259/259 [==============================] - 14s 53ms/step - loss: 0.2905 - acc: 0.9133 - val_loss: 0.2807 - val_acc: 0.9168\n",
      "Epoch 4/10\n",
      "259/259 [==============================] - 14s 55ms/step - loss: 0.1911 - acc: 0.9423 - val_loss: 0.2767 - val_acc: 0.9144\n",
      "Epoch 5/10\n",
      "259/259 [==============================] - 15s 57ms/step - loss: 0.1558 - acc: 0.9525 - val_loss: 0.2934 - val_acc: 0.9130\n",
      "Epoch 6/10\n",
      "259/259 [==============================] - 15s 59ms/step - loss: 0.1533 - acc: 0.9536 - val_loss: 0.2461 - val_acc: 0.9236\n",
      "Epoch 7/10\n",
      "259/259 [==============================] - 13s 51ms/step - loss: 0.1274 - acc: 0.9614 - val_loss: 0.2946 - val_acc: 0.9173\n",
      "Epoch 8/10\n",
      "259/259 [==============================] - 12s 48ms/step - loss: 0.1525 - acc: 0.9532 - val_loss: 0.3354 - val_acc: 0.8912\n",
      "Epoch 9/10\n",
      "259/259 [==============================] - 13s 51ms/step - loss: 0.1343 - acc: 0.9573 - val_loss: 0.2551 - val_acc: 0.9207\n",
      "Epoch 10/10\n",
      "259/259 [==============================] - 13s 48ms/step - loss: 0.1227 - acc: 0.9611 - val_loss: 0.2615 - val_acc: 0.9221\n"
     ]
    }
   ],
   "source": [
    "history = model.fit(train_pad,y_train_hot,epochs=10,validation_data=(test_pad,y_test_hot))"
   ]
  },
  {
   "cell_type": "code",
   "execution_count": 214,
   "id": "de51a33d",
   "metadata": {},
   "outputs": [
    {
     "name": "stdout",
     "output_type": "stream",
     "text": [
      "65/65 [==============================] - 2s 15ms/step\n"
     ]
    }
   ],
   "source": [
    "pred = model.predict(test_pad)"
   ]
  },
  {
   "cell_type": "code",
   "execution_count": 215,
   "id": "4e40ffb3",
   "metadata": {},
   "outputs": [],
   "source": [
    "y_pred = np.argmax(pred,axis=1)\n",
    "y_true = np.argmax(y_test_hot,axis=1)"
   ]
  },
  {
   "cell_type": "code",
   "execution_count": 216,
   "id": "0ce6df3c",
   "metadata": {},
   "outputs": [
    {
     "name": "stdout",
     "output_type": "stream",
     "text": [
      "              precision    recall  f1-score   support\n",
      "\n",
      "           0       0.91      1.00      0.95        96\n",
      "           1       0.89      0.90      0.90        72\n",
      "           2       0.91      0.89      0.90       114\n",
      "           3       0.97      0.98      0.98       288\n",
      "           4       0.91      0.99      0.95       202\n",
      "           5       0.92      0.97      0.95        89\n",
      "           6       0.93      0.98      0.95        64\n",
      "           7       1.00      0.83      0.91        12\n",
      "           8       0.88      0.94      0.91       135\n",
      "           9       0.91      0.97      0.94        62\n",
      "          10       0.98      0.64      0.77       184\n",
      "          11       0.92      0.99      0.96       134\n",
      "          12       0.93      0.95      0.94       133\n",
      "          13       0.94      0.89      0.92       169\n",
      "          14       0.94      0.98      0.96       128\n",
      "          15       0.91      0.89      0.90        89\n",
      "          16       0.80      0.87      0.83        97\n",
      "\n",
      "    accuracy                           0.92      2068\n",
      "   macro avg       0.92      0.92      0.92      2068\n",
      "weighted avg       0.92      0.92      0.92      2068\n",
      "\n"
     ]
    }
   ],
   "source": [
    "print(classification_report(y_pred,y_true))"
   ]
  },
  {
   "cell_type": "code",
   "execution_count": 169,
   "id": "bb3c376d",
   "metadata": {},
   "outputs": [],
   "source": [
    "new_word = [\"اكتب في العربي\"]\n",
    "new_seq = tokenizer.texts_to_sequences(new_word)\n",
    "new_pad = tf.keras.utils.pad_sequences(new_seq,padding=\"post\",truncating=\"post\",maxlen=40)"
   ]
  },
  {
   "cell_type": "code",
   "execution_count": 170,
   "id": "102acb51",
   "metadata": {},
   "outputs": [
    {
     "name": "stdout",
     "output_type": "stream",
     "text": [
      "1/1 [==============================] - 0s 16ms/step\n"
     ]
    }
   ],
   "source": [
    "p = model.predict(new_pad)"
   ]
  },
  {
   "cell_type": "code",
   "execution_count": 171,
   "id": "916d100c",
   "metadata": {},
   "outputs": [],
   "source": [
    "new_p = np.argmax(p,axis=1)"
   ]
  },
  {
   "cell_type": "code",
   "execution_count": 172,
   "id": "204f60b8",
   "metadata": {},
   "outputs": [
    {
     "data": {
      "text/plain": [
       "array([0])"
      ]
     },
     "execution_count": 172,
     "metadata": {},
     "output_type": "execute_result"
    }
   ],
   "source": [
    "new_p"
   ]
  },
  {
   "cell_type": "code",
   "execution_count": 173,
   "id": "5f2efbd8",
   "metadata": {},
   "outputs": [
    {
     "name": "stdout",
     "output_type": "stream",
     "text": [
      "Arabic\n"
     ]
    }
   ],
   "source": [
    "for i in new_p:\n",
    "    print(le.classes_[i])"
   ]
  },
  {
   "cell_type": "code",
   "execution_count": 226,
   "id": "a688d165",
   "metadata": {},
   "outputs": [],
   "source": [
    "model.save(\"LangLSTM.h5\")"
   ]
  },
  {
   "cell_type": "code",
   "execution_count": 175,
   "id": "072450bd",
   "metadata": {},
   "outputs": [],
   "source": [
    "import pickle"
   ]
  },
  {
   "cell_type": "code",
   "execution_count": 198,
   "id": "34d3b3b9",
   "metadata": {},
   "outputs": [],
   "source": [
    "pickle.dump(nb, open(\"LangDetct.pkl\", 'wb'))"
   ]
  },
  {
   "cell_type": "code",
   "execution_count": 204,
   "id": "44f4a8e4",
   "metadata": {},
   "outputs": [
    {
     "data": {
      "text/plain": [
       "array([0])"
      ]
     },
     "execution_count": 204,
     "metadata": {},
     "output_type": "execute_result"
    }
   ],
   "source": [
    "check_pm = pickle.load(open(\"LangDetct.pkl\",'rb'))\n",
    "check_pm.predict(try_text)"
   ]
  }
 ],
 "metadata": {
  "kernelspec": {
   "display_name": "Python 3 (ipykernel)",
   "language": "python",
   "name": "python3"
  },
  "language_info": {
   "codemirror_mode": {
    "name": "ipython",
    "version": 3
   },
   "file_extension": ".py",
   "mimetype": "text/x-python",
   "name": "python",
   "nbconvert_exporter": "python",
   "pygments_lexer": "ipython3",
   "version": "3.10.6"
  }
 },
 "nbformat": 4,
 "nbformat_minor": 5
}
